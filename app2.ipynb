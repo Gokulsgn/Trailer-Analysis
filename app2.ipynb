{
 "cells": [
  {
   "cell_type": "code",
   "execution_count": 2,
   "metadata": {},
   "outputs": [],
   "source": [
    "import yfinance as yf\n",
    "import pandas as pd\n",
    "import matplotlib.pyplot as plt\n",
    "from sklearn.ensemble import RandomForestRegressor\n",
    "from sklearn.model_selection import train_test_split\n",
    "from sklearn.preprocessing import StandardScaler\n",
    "from sklearn.metrics import mean_squared_error, r2_score\n"
   ]
  },
  {
   "cell_type": "code",
   "execution_count": 3,
   "metadata": {},
   "outputs": [
    {
     "name": "stderr",
     "output_type": "stream",
     "text": [
      "[*********************100%***********************]  1 of 1 completed\n",
      "c:\\Users\\gokul\\AppData\\Local\\Programs\\Python\\Python312\\Lib\\site-packages\\yfinance\\scrapers\\fundamentals.py:33: DeprecationWarning: 'Ticker.earnings' is deprecated as not available via API. Look for \"Net Income\" in Ticker.income_stmt.\n",
      "  warnings.warn(\"'Ticker.earnings' is deprecated as not available via API. Look for \\\"Net Income\\\" in Ticker.income_stmt.\", DeprecationWarning)\n"
     ]
    },
    {
     "name": "stdout",
     "output_type": "stream",
     "text": [
      "                Open      High       Low     Close  Adj Close     Volume\n",
      "Date                                                                    \n",
      "2010-01-04  7.622500  7.660714  7.585000  7.643214   6.454504  493729600\n",
      "2010-01-05  7.664286  7.699643  7.616071  7.656429   6.465665  601904800\n",
      "2010-01-06  7.656429  7.686786  7.526786  7.534643   6.362819  552160000\n",
      "2010-01-07  7.562500  7.571429  7.466071  7.520714   6.351054  477131200\n",
      "2010-01-08  7.510714  7.571429  7.466429  7.570714   6.393281  447610800\n"
     ]
    },
    {
     "ename": "AttributeError",
     "evalue": "'NoneType' object has no attribute 'head'",
     "output_type": "error",
     "traceback": [
      "\u001b[1;31m---------------------------------------------------------------------------\u001b[0m",
      "\u001b[1;31mAttributeError\u001b[0m                            Traceback (most recent call last)",
      "Cell \u001b[1;32mIn[3], line 10\u001b[0m\n\u001b[0;32m      8\u001b[0m \u001b[38;5;66;03m# Display the first few rows of stock data and earnings data\u001b[39;00m\n\u001b[0;32m      9\u001b[0m \u001b[38;5;28mprint\u001b[39m(stock_data\u001b[38;5;241m.\u001b[39mhead())\n\u001b[1;32m---> 10\u001b[0m \u001b[38;5;28mprint\u001b[39m(\u001b[43mearnings_data\u001b[49m\u001b[38;5;241;43m.\u001b[39;49m\u001b[43mhead\u001b[49m())\n",
      "\u001b[1;31mAttributeError\u001b[0m: 'NoneType' object has no attribute 'head'"
     ]
    }
   ],
   "source": [
    "# Fetch historical stock price data\n",
    "ticker = 'AAPL'\n",
    "stock_data = yf.download(ticker, start='2010-01-01', end='2024-01-01')\n",
    "\n",
    "# Fetch earnings data\n",
    "earnings_data = yf.Ticker(ticker).earnings\n",
    "\n",
    "# Display the first few rows of stock data and earnings data\n",
    "print(stock_data.head())\n",
    "print(earnings_data.head())\n"
   ]
  },
  {
   "cell_type": "code",
   "execution_count": null,
   "metadata": {},
   "outputs": [],
   "source": []
  }
 ],
 "metadata": {
  "kernelspec": {
   "display_name": "Python 3",
   "language": "python",
   "name": "python3"
  },
  "language_info": {
   "codemirror_mode": {
    "name": "ipython",
    "version": 3
   },
   "file_extension": ".py",
   "mimetype": "text/x-python",
   "name": "python",
   "nbconvert_exporter": "python",
   "pygments_lexer": "ipython3",
   "version": "3.12.4"
  }
 },
 "nbformat": 4,
 "nbformat_minor": 2
}
